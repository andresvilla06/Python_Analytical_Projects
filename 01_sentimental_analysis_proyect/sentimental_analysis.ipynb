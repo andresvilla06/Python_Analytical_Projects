{
 "cells": [
  {
   "cell_type": "markdown",
   "metadata": {},
   "source": [
    "# Proyecto Final"
   ]
  },
  {
   "cell_type": "markdown",
   "metadata": {},
   "source": [
    "## Parte I: Clasificador"
   ]
  },
  {
   "cell_type": "markdown",
   "metadata": {},
   "source": [
    "### Primera Funcion"
   ]
  },
  {
   "cell_type": "code",
   "execution_count": null,
   "metadata": {},
   "outputs": [],
   "source": [
    "punctuation_chars = [\"'\", '\"', \",\", \".\", \"!\", \":\", \";\", '#', '@'] \n",
    "def strip_punctuation(word:str) -> str: #Aqui llega la palabra 1 por 1 del tweet para ser limpiada aqui\n",
    "    clean_word = word\n",
    "    for words in punctuation_chars:\n",
    "        clean_word = clean_word.replace(words, \"\").strip()\n",
    "    return clean_word"
   ]
  },
  {
   "cell_type": "markdown",
   "metadata": {},
   "source": [
    "### Segunda Funcion"
   ]
  },
  {
   "cell_type": "code",
   "execution_count": null,
   "metadata": {},
   "outputs": [],
   "source": [
    "positive_words = [] \n",
    "with open(\"dataset/positive_words.txt\") as pos_f: #Esto es para las positive words del .txt\n",
    "    for lin in pos_f:\n",
    "        if lin[0] != ';' and lin[0] != '\\n':\n",
    "            positive_words.append(lin.strip())\n",
    "\n",
    "\n",
    "def get_pos(p_sentence:str) -> int: #Aqui estara el string completo (osea sin split) de cada tweet. \n",
    "    count = 0\n",
    "    words = p_sentence.lower().split() #Aqui el string completo, se pone todo en minuscula y se hace su respectivo split\n",
    "    for word in words:\n",
    "        clean_word = strip_punctuation(word) #Aqui la palabra sucia del tweet se coloca ahi y esa funcion debe limpiarla\n",
    "        if clean_word in positive_words:\n",
    "            count += 1\n",
    "    return count\n",
    "    "
   ]
  },
  {
   "cell_type": "markdown",
   "metadata": {},
   "source": [
    "### Tercera Funcion"
   ]
  },
  {
   "cell_type": "code",
   "execution_count": null,
   "metadata": {},
   "outputs": [],
   "source": [
    "negative_words = []\n",
    "with open(\"dataset/negative_words.txt\") as pos_f: #Esto es para las negative words del .txt\n",
    "    for lin in pos_f:\n",
    "        if lin[0] != ';' and lin[0] != '\\n':\n",
    "            negative_words.append(lin.strip())\n",
    "\n",
    "def get_neg(n_sentence:str) -> int: #Aqui estara el string completo (osea sin split) de cada tweet. \n",
    "    count = 0\n",
    "    words = n_sentence.lower().split() #Aqui el string completo, se pone todo en minuscula y se hace su respectivo split\n",
    "    for word in words:\n",
    "        clean_word = strip_punctuation(word) #Aqui la palabra sucia del tweet se coloca ahi y esa funcion debe limpiarla\n",
    "        if clean_word in negative_words:\n",
    "            count += 1\n",
    "    return count"
   ]
  },
  {
   "cell_type": "markdown",
   "metadata": {},
   "source": [
    "### Resultado completo final"
   ]
  },
  {
   "cell_type": "code",
   "execution_count": null,
   "metadata": {},
   "outputs": [],
   "source": [
    "import csv\n",
    "with open(\"./dataset/project_twitter_data.csv\", \"r\") as csv_pt:\n",
    "    csv_reader = csv.DictReader(csv_pt) #Aqui leo el csv completo \n",
    "    fields = [\"Number of Retweets\",\"Number of Replies\", \"Positive Score\", \"Negative Score\", \"Net Score\"] #Creo de antemano los fields para el writer\n",
    "    \n",
    "    with open(\"./dataset/resulting_data2.csv\",\"w\") as csv_wt:\n",
    "        csv_writer = csv.DictWriter(csv_wt, fieldnames=fields)\n",
    "        csv_writer.writeheader() #Aqui se escibren los nombres de las columnas ya\n",
    "\n",
    "        for row in csv_reader: #Codigo general donde se hace todo\n",
    "            tweet_text = row[\"tweet_text\"] #El diccionario se llama row \n",
    "            retweets = row[\"retweet_count\"]\n",
    "            replies = row[\"reply_count\"]\n",
    "            pos_score = get_pos(tweet_text) \n",
    "            neg_score = get_neg(tweet_text)\n",
    "            net_score = pos_score - neg_score\n",
    "\n",
    "            csv_writer.writerow({\n",
    "                \"Number of Retweets\": retweets,\n",
    "                \"Number of Replies\": replies,\n",
    "                \"Positive Score\": pos_score,\n",
    "                \"Negative Score\": neg_score,\n",
    "                \"Net Score\": net_score\n",
    "            })\n",
    "        "
   ]
  }
 ],
 "metadata": {
  "kernelspec": {
   "display_name": "Python 3",
   "language": "python",
   "name": "python3"
  },
  "language_info": {
   "codemirror_mode": {
    "name": "ipython",
    "version": 3
   },
   "file_extension": ".py",
   "mimetype": "text/x-python",
   "name": "python",
   "nbconvert_exporter": "python",
   "pygments_lexer": "ipython3",
   "version": "3.13.0"
  }
 },
 "nbformat": 4,
 "nbformat_minor": 2
}
